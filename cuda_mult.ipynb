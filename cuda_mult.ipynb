{
  "nbformat": 4,
  "nbformat_minor": 0,
  "metadata": {
    "colab": {
      "provenance": [],
      "gpuType": "T4"
    },
    "kernelspec": {
      "name": "python3",
      "display_name": "Python 3"
    },
    "language_info": {
      "name": "python"
    },
    "accelerator": "GPU"
  },
  "cells": [
    {
      "cell_type": "code",
      "execution_count": 1,
      "metadata": {
        "colab": {
          "base_uri": "https://localhost:8080/"
        },
        "id": "5Gu9QQnwYeqd",
        "outputId": "3fefc9bc-24ff-4477-a46d-1c45b1f3e2c9"
      },
      "outputs": [
        {
          "output_type": "stream",
          "name": "stdout",
          "text": [
            "CPU Matrix Multiplication Time: 0.0781 seconds\n",
            "GPU Matrix Multiplication Time: 0.6220 seconds\n"
          ]
        }
      ],
      "source": [
        "import numpy as np\n",
        "import cupy as cp\n",
        "import time\n",
        "\n",
        "# Size of matrices\n",
        "N = 1024\n",
        "\n",
        "# Create random matrices on CPU\n",
        "A_cpu = np.random.rand(N, N).astype(np.float32)\n",
        "B_cpu = np.random.rand(N, N).astype(np.float32)\n",
        "\n",
        "# ---------- CPU ----------\n",
        "start_cpu = time.time()\n",
        "C_cpu = np.matmul(A_cpu, B_cpu)\n",
        "end_cpu = time.time()\n",
        "print(f\"CPU Matrix Multiplication Time: {end_cpu - start_cpu:.4f} seconds\")\n",
        "\n",
        "# ---------- GPU ----------\n",
        "A_gpu = cp.asarray(A_cpu)\n",
        "B_gpu = cp.asarray(B_cpu)\n",
        "start_gpu = time.time()\n",
        "C_gpu = cp.matmul(A_gpu, B_gpu)\n",
        "cp.cuda.Device(0).synchronize()\n",
        "end_gpu = time.time()\n",
        "print(f\"GPU Matrix Multiplication Time: {end_gpu - start_gpu:.4f} seconds\")\n"
      ]
    },
    {
      "cell_type": "code",
      "source": [],
      "metadata": {
        "id": "oRdgSyTBYlnU"
      },
      "execution_count": null,
      "outputs": []
    }
  ]
}